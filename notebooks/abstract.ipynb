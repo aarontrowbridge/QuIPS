{
 "cells": [
  {
   "cell_type": "markdown",
   "metadata": {},
   "source": [
    "# QuIPS: Quantum Information Processing System\n",
    "\n",
    "This notebook contains a brief introduction to QuIPS, a pure Julia implementation of a Quantum Abstract Machine. Let's start by bringing QuIPS into scope, and defining the type we will be working with."
   ]
  },
  {
   "cell_type": "code",
   "execution_count": 6,
   "metadata": {},
   "outputs": [],
   "source": [
    "using QuIPS\n",
    "\n",
    "C = Complex{Float32}; # makes life easier"
   ]
  },
  {
   "cell_type": "markdown",
   "metadata": {},
   "source": [
    "## Overview"
   ]
  },
  {
   "cell_type": "markdown",
   "metadata": {},
   "source": [
    "QuIPS comes with the following:\n",
    "\n",
    "* SuperTypes\n",
    "    * Operator\n",
    "* Types\n",
    "    * Gate\n",
    "    * Control\n",
    "    * Measurement\n",
    "* Constants\n",
    "    * GATES\n",
    "    * PARAM_GATES\n",
    "* Functions\n",
    "    * run!\n",
    "    * step!\n",
    "    * reset!\n",
    "    * operate!\n",
    "    * tensor\n",
    "    * $\\otimes$\n",
    "    * ^\n",
    "    * show\n",
    "\n"
   ]
  },
  {
   "cell_type": "markdown",
   "metadata": {},
   "source": [
    "## Operators\n",
    "\n",
    "There are 3 types of operators\n",
    "* gates \n",
    "* controlled gates \n",
    "* measurement\n",
    "\n",
    "Operators here are, in computer science terms, closures, where they are a data structure we can create that then become functions that can act on the wavefunction of the quantum virtual machine.\n",
    "\n",
    "For example to construct a CNOT, or CX, gate on qubits 2 and 1, do:"
   ]
  },
  {
   "cell_type": "code",
   "execution_count": 8,
   "metadata": {},
   "outputs": [],
   "source": [
    "CX̂ = ControlGate((:CX, (1, 2)));"
   ]
  },
  {
   "cell_type": "markdown",
   "metadata": {},
   "source": [
    "This implementation defines the initial product state wavefunction to be:\n",
    "\n",
    "$$\n",
    "|\\psi\\rangle = |0\\rangle_1 \\otimes |0\\rangle_2 \\otimes \\cdots \\otimes |0\\rangle_N = \\bigotimes_{i=1}^N|0\\rangle_i\n",
    "$$\n",
    "\n",
    "For example lets try operating our CX gate on the state $|\\psi\\rangle = |1\\rangle \\otimes |0\\rangle = |10\\rangle$"
   ]
  },
  {
   "cell_type": "code",
   "execution_count": 9,
   "metadata": {},
   "outputs": [
    {
     "data": {
      "text/plain": [
       "4-element Vector{Int64}:\n",
       " 0\n",
       " 0\n",
       " 1\n",
       " 0"
      ]
     },
     "metadata": {},
     "output_type": "display_data"
    }
   ],
   "source": [
    "ψ = [0,1] ⊗ [1,0]"
   ]
  },
  {
   "cell_type": "code",
   "execution_count": 10,
   "metadata": {},
   "outputs": [
    {
     "data": {
      "text/plain": [
       "2×2 Matrix{ComplexF32}:\n",
       " 0.0+0.0im  1.0+0.0im\n",
       " 1.0+0.0im  0.0+0.0im"
      ]
     },
     "metadata": {},
     "output_type": "display_data"
    }
   ],
   "source": [
    "CX̂.gate.U # the single qubit X gate is the kernel of this operation"
   ]
  },
  {
   "cell_type": "code",
   "execution_count": 11,
   "metadata": {},
   "outputs": [
    {
     "data": {
      "text/plain": [
       "4-element Vector{ComplexF32}:\n",
       " 0.0f0 + 0.0f0im\n",
       " 0.0f0 + 0.0f0im\n",
       " 0.0f0 + 0.0f0im\n",
       " 1.0f0 + 0.0f0im"
      ]
     },
     "metadata": {},
     "output_type": "display_data"
    }
   ],
   "source": [
    "N = 2 # number of qubits, we need to give this to the gate\n",
    "ψ = Complex{Float32}.(ψ)\n",
    "\n",
    "CX̂(ψ, N)"
   ]
  },
  {
   "cell_type": "code",
   "execution_count": 14,
   "metadata": {},
   "outputs": [
    {
     "data": {
      "text/plain": [
       "2×2 Matrix{ComplexF32}:\n",
       " 0.0+0.0im  1.0+0.0im\n",
       " 1.0+0.0im  0.0+0.0im"
      ]
     },
     "metadata": {},
     "output_type": "display_data"
    }
   ],
   "source": [
    "tag = (:CCNOT, (3, 1, 2))\n",
    "\n",
    "CCNOT = ControlGate(tag)\n",
    "\n",
    "CCNOT.gate.U # has the same kernel"
   ]
  },
  {
   "cell_type": "code",
   "execution_count": 15,
   "metadata": {},
   "outputs": [
    {
     "data": {
      "text/plain": [
       "8-element Vector{Int64}:\n",
       " 0\n",
       " 0\n",
       " 0\n",
       " 0\n",
       " 0\n",
       " 0\n",
       " 0\n",
       " 1"
      ]
     },
     "metadata": {},
     "output_type": "display_data"
    }
   ],
   "source": [
    "ψ′ = [0,1] ⊗ [0,1] ⊗ [0,1] # |111>"
   ]
  },
  {
   "cell_type": "code",
   "execution_count": 16,
   "metadata": {},
   "outputs": [
    {
     "data": {
      "text/plain": [
       "8-element Vector{Int64}:\n",
       " 0\n",
       " 0\n",
       " 0\n",
       " 0\n",
       " 0\n",
       " 1\n",
       " 0\n",
       " 0"
      ]
     },
     "metadata": {},
     "output_type": "display_data"
    }
   ],
   "source": [
    "Int.(CCNOT(C.(ψ′), 3))"
   ]
  },
  {
   "cell_type": "code",
   "execution_count": 18,
   "metadata": {},
   "outputs": [
    {
     "data": {
      "text/plain": [
       "8-element Vector{ComplexF32}:\n",
       "       0.0f0 + 0.0f0im\n",
       "       0.0f0 + 0.0f0im\n",
       "       0.0f0 + 0.0f0im\n",
       "       0.0f0 + 0.0f0im\n",
       "       0.0f0 + 0.0f0im\n",
       "       0.0f0 + 0.0f0im\n",
       "       0.0f0 + 0.0f0im\n",
       " 0.2931853f0 + 0.95605564f0im"
      ]
     },
     "metadata": {},
     "output_type": "display_data"
    }
   ],
   "source": [
    "CCPHASE(θ, i, j, k) = ControlGate((:CCPHASE, Float32(θ), (i, j, k)))\n",
    "\n",
    "G = CCPHASE(π \\ 4, 3, 1, 2)\n",
    "\n",
    "G(C.(ψ′), 3)"
   ]
  },
  {
   "cell_type": "code",
   "execution_count": 19,
   "metadata": {},
   "outputs": [
    {
     "name": "stdout",
     "output_type": "stream",
     "text": [
      "CCNOT 3 1 2 \n"
     ]
    }
   ],
   "source": [
    "show(CCNOT)"
   ]
  },
  {
   "cell_type": "code",
   "execution_count": 20,
   "metadata": {},
   "outputs": [
    {
     "data": {
      "text/plain": [
       "2×2 Matrix{ComplexF32}:\n",
       " 0.707107+0.0im            0.0+0.707107im\n",
       "      0.0+0.707107im  0.707107+0.0im"
      ]
     },
     "metadata": {},
     "output_type": "display_data"
    }
   ],
   "source": [
    "R̂ₓ(γ, k) = Gate((:RX, Float32(γ), k))\n",
    "\n",
    "R̂ = R̂ₓ(π/4, 1)\n",
    "\n",
    "R̂.U"
   ]
  },
  {
   "cell_type": "code",
   "execution_count": 26,
   "metadata": {},
   "outputs": [
    {
     "data": {
      "text/plain": [
       "Dict{Symbol, Function} with 4 entries:\n",
       "  :RZ    => #3\n",
       "  :PHASE => #4\n",
       "  :RY    => #2\n",
       "  :RX    => #1"
      ]
     },
     "metadata": {},
     "output_type": "display_data"
    }
   ],
   "source": [
    "PARAM_GATES = QuIPS.Operators.PARAM_GATES"
   ]
  },
  {
   "cell_type": "code",
   "execution_count": 27,
   "metadata": {},
   "outputs": [
    {
     "data": {
      "text/plain": [
       "Dict{Symbol, Matrix} with 8 entries:\n",
       "  :Z   => [1 0; 0 -1]\n",
       "  :T   => ComplexF64[1.0+0.0im 0.0+0.0im; 0.0+0.0im 0.707107+0.707107im]\n",
       "  :I   => [1 0; 0 1]\n",
       "  :NOT => [0 1; 1 0]\n",
       "  :H   => [0.707107 0.707107; 0.707107 -0.707107]\n",
       "  :S   => Complex{Int64}[1+0im 0+0im; 0+0im 0+1im]\n",
       "  :X   => [0 1; 1 0]\n",
       "  :Y   => Complex{Int64}[0+0im 0-1im; 0+1im 0+0im]"
      ]
     },
     "metadata": {},
     "output_type": "display_data"
    }
   ],
   "source": [
    "GATES = QuIPS.Operators.GATES"
   ]
  },
  {
   "cell_type": "markdown",
   "metadata": {},
   "source": [
    "## Tensor\n",
    "\n",
    "Now that was easy since the target qubit (2), was one above the control qubit (1), and CX can be represented as:\n",
    "\n",
    "$$\n",
    "C\\hat{X} = |0\\rangle\\langle0| \\otimes \\hat{I} + |1\\rangle\\langle1| \\otimes \\hat{X} = \\begin{pmatrix}\n",
    "1 &0 &0 &0 \\\\\n",
    "0 &1 &0 &0 \\\\\n",
    "0 &0 &0 &1 \\\\\n",
    "0 &0 &1 &0\n",
    "\\end{pmatrix}\n",
    "$$\n",
    "\n",
    "If we want to do something like $CC\\hat{H}(5,2,7)$ or something else crazy like that we need to work harder to get the numbers to work out correctly. \n",
    "\n",
    "A necessity of a QVM is the ability to tensor, or lift, operators up to their correct representation.  Say we have $\\hat{Z}_k$ acting on qubit $k$, if we have $N$ qubits then the correct representation is:\n",
    "\n",
    "$$\n",
    "\\tilde{Z}_k = \\hat{I}_1 \\otimes \\hat{I}_2 \\otimes \\cdots \\otimes \\hat{Z}_k \\otimes \\cdots \\otimes \\hat{I}_N\n",
    "$$\n",
    "\n",
    "From now on, an operator with a tilde has been lifted.\n",
    "\n",
    "Lets see what this looks like with $\\hat{Y}_2$ acting on the middle of 3 qubits.\n",
    "\n",
    "$$\n",
    "\\tilde{Y} = \\hat{I}_1 \\otimes \\hat{Y}_2 \\otimes \\hat{I}_3\n",
    "$$"
   ]
  },
  {
   "cell_type": "code",
   "execution_count": 28,
   "metadata": {},
   "outputs": [
    {
     "data": {
      "text/plain": [
       "2×2 Matrix{ComplexF32}:\n",
       " 0.0+0.0im  0.0-1.0im\n",
       " 0.0+1.0im  0.0+0.0im"
      ]
     },
     "metadata": {},
     "output_type": "display_data"
    }
   ],
   "source": [
    "N = 3\n",
    "Y = Complex{Float32}.(GATES[:Y])"
   ]
  },
  {
   "cell_type": "code",
   "execution_count": 29,
   "metadata": {},
   "outputs": [
    {
     "data": {
      "text/plain": [
       "8×8 Matrix{Int64}:\n",
       " 0  0  -1   0  0  0   0   0\n",
       " 0  0   0  -1  0  0   0   0\n",
       " 1  0   0   0  0  0   0   0\n",
       " 0  1   0   0  0  0   0   0\n",
       " 0  0   0   0  0  0  -1   0\n",
       " 0  0   0   0  0  0   0  -1\n",
       " 0  0   0   0  1  0   0   0\n",
       " 0  0   0   0  0  1   0   0"
      ]
     },
     "metadata": {},
     "output_type": "display_data"
    }
   ],
   "source": [
    "Ỹ = tensor(Y, 2, N)\n",
    "\n",
    "Int.(imag(Ỹ))"
   ]
  },
  {
   "cell_type": "markdown",
   "metadata": {},
   "source": [
    "We can accomplish gates like CCX(i, j, k) for arbitrary $i, j$ & $k$ by means of permuting the wavefunction in a way that places the target qubit, $Q_k$, adjacent to control qubits, $C_i$ & $C_j$, and in the correct order for the standard Control operator representation to be applicable.  If $Q_k \\in \\mathscr{H}_k$, where $\\mathscr{H}_k$ is the Hilbert space corresponding to qubit $Q_k$. We can then define a map:\n",
    "\n",
    "$$\n",
    "\\tau : \\mathscr{H}_j \\otimes \\mathscr{H}_k \\to \\mathscr{H}_k \\otimes \\mathscr{H}_j\n",
    "$$\n",
    "\n",
    "The kernel of $\\tau$ is the SWAP gate,\n",
    "\n",
    "$$\n",
    "\\text{SWAP} = \\begin{pmatrix}\n",
    "1 &0 &0 &0 \\\\\n",
    "0 &0 &1 &0 \\\\\n",
    "0 &1 &0 &0 \\\\\n",
    "0 &0 &0 &1\n",
    "\\end{pmatrix}\n",
    "$$\n",
    "\n",
    "We can use $\\tau$ as a transformation operator mapping $Q_j \\to Q_{j+1}$, where\n",
    "\n",
    "$$\n",
    "\\tau_{i,N} := \\text{tensor}(\\text{SWAP}, i + 1, N)\n",
    "$$\n",
    "\n",
    "and this method of tensor just lifts the operator in the correct spot.  We can then define an operator,\n",
    "\n",
    "$$\n",
    "\\sigma_{j,k} : \\mathscr{H}_k \\to \\mathscr{H}_j,\n",
    "$$\n",
    "\n",
    "where, using the rightward product,\n",
    "\n",
    "$$\n",
    "\\sigma_{j,k,N} = \\prod_{i=k}^{j-1}\\tau_{k+j-i-1, N}\n",
    "$$\n",
    "\n",
    "We are now able to move qubits around, allowing for arbitrary 2 & 3 qubit control gates. so we can transform any operator into a corresponding operator with an easily accessible representation. Of course $\\sigma$ is unitary so,\n",
    "\n",
    "$$\n",
    "U \\leftarrow \\sigma^{\\dagger}U\\sigma\n",
    "$$\n",
    "\n",
    "and since $\\sigma$ is just a product of SWAP gates, its inverse is just the reverse product:\n",
    "\n",
    "$$\n",
    "\\sigma_{j,k,N}^{\\dagger} = \\prod_{i=j}^{k}\\tau_{k+j-i, N}\n",
    "$$\n",
    "\n",
    "thus, for every operator on multiple qubits, we must check and adjust the targets, and for 3 qubit gates this gets a bit trickier.  Regardless, we are able to map every operator in the QCircuit, to a transformed representation we can do a calculation with. fs"
   ]
  },
  {
   "cell_type": "markdown",
   "metadata": {},
   "source": [
    "## QVM\n",
    "\n",
    "The QVM module provides a framework to write and run quantum information programs, or quips.  \n",
    "\n",
    "A quip is a list of operator tags, or tuples of information about the operator, which will get compiled into Operator instances in a quantum circuit, or QCircuit.\n",
    "\n",
    "Here is an example of a simple quip to entangle and measure 2 qubits:"
   ]
  },
  {
   "cell_type": "code",
   "execution_count": 30,
   "metadata": {},
   "outputs": [],
   "source": [
    "quip = [\n",
    "    (:H, 2),\n",
    "    (:CX, (2, 1)),\n",
    "    (:MEASURE, 2),\n",
    "    (:MEASURE, 1)\n",
    "];"
   ]
  },
  {
   "cell_type": "markdown",
   "metadata": {},
   "source": [
    "We can create a QCircuit with a quip,"
   ]
  },
  {
   "cell_type": "code",
   "execution_count": 31,
   "metadata": {},
   "outputs": [
    {
     "name": "stdout",
     "output_type": "stream",
     "text": [
      "\n",
      "compiling quip to circuit\n",
      "\n",
      "  compiling H 2\n",
      "  compiling CX 2 1 \n",
      "  compiling MEASURE 2\n",
      "  compiling MEASURE 1\n",
      "\n",
      "compiled\n",
      "\n"
     ]
    }
   ],
   "source": [
    "N = 2\n",
    "\n",
    "QC = QCircuit(quip, 2);"
   ]
  },
  {
   "cell_type": "markdown",
   "metadata": {},
   "source": [
    "and then run our virtual quantum computer,"
   ]
  },
  {
   "cell_type": "code",
   "execution_count": 32,
   "metadata": {},
   "outputs": [
    {
     "name": "stdout",
     "output_type": "stream",
     "text": [
      "\n",
      "beginning run\n",
      "\n",
      "  H 2\n",
      "  CX 2 1 \n",
      "  MEASURE 2\n",
      "   -> true\n",
      "  MEASURE 1\n",
      "   -> true\n",
      "\n",
      "finished run\n",
      "\n"
     ]
    }
   ],
   "source": [
    "run!(QC)"
   ]
  },
  {
   "cell_type": "code",
   "execution_count": 33,
   "metadata": {},
   "outputs": [
    {
     "data": {
      "text/plain": [
       "2-element BitVector:\n",
       " 1\n",
       " 1"
      ]
     },
     "metadata": {},
     "output_type": "display_data"
    }
   ],
   "source": [
    "QC.out"
   ]
  },
  {
   "cell_type": "code",
   "execution_count": 34,
   "metadata": {},
   "outputs": [
    {
     "name": "stdout",
     "output_type": "stream",
     "text": [
      "Bool[1, 1]\n",
      "Bool[1, 1]\n",
      "Bool[1, 1]\n",
      "Bool[0, 0]\n",
      "Bool[1, 1]\n",
      "Bool[1, 1]\n",
      "Bool[0, 0]\n",
      "Bool[0, 0]\n",
      "Bool[0, 0]\n",
      "Bool[1, 1]\n"
     ]
    }
   ],
   "source": [
    "for i = 1:10\n",
    "    reset!(QC)\n",
    "    run!(QC, false)\n",
    "    println(QC.out)\n",
    "end"
   ]
  },
  {
   "cell_type": "code",
   "execution_count": null,
   "metadata": {},
   "outputs": [],
   "source": []
  },
  {
   "cell_type": "markdown",
   "metadata": {},
   "source": [
    "and we see entanglement in correlation."
   ]
  },
  {
   "cell_type": "code",
   "execution_count": 35,
   "metadata": {},
   "outputs": [],
   "source": []
  },
  {
   "cell_type": "code",
   "execution_count": null,
   "metadata": {},
   "outputs": [],
   "source": []
  }
 ],
 "metadata": {
  "kernelspec": {
   "display_name": "Julia 1.7.0",
   "language": "julia",
   "name": "julia-1.7"
  },
  "language_info": {
   "file_extension": ".jl",
   "mimetype": "application/julia",
   "name": "julia",
   "version": "1.7.0"
  }
 },
 "nbformat": 4,
 "nbformat_minor": 4
}
